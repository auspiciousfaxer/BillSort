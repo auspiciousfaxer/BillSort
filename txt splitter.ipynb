{
 "cells": [
  {
   "cell_type": "code",
   "execution_count": null,
   "id": "c8d05f30-bc89-4d72-aca3-54cdad5073c3",
   "metadata": {},
   "outputs": [],
   "source": [
    "def splitFile(inputFile, outputFolder):\n",
    "    with open(inputFile, 'r', encoding='utf-8') as largeFile:\n",
    "        content = largeFile.read()\n",
    "\n",
    "    sections = content.split(\"Scanned with CamScanner\")  # Separator text, example provided\n",
    "\n",
    "    for i, section in enumerate(sections, start=1):\n",
    "        # Create individual file names for each section based on the index\n",
    "        outputFile = f\"{output_folder}/section_{i}.txt\"\n",
    "\n",
    "        # Write the section to a separate file\n",
    "        with open(outputFile, 'w', encoding='utf-8') as output:\n",
    "            output.write(section)\n",
    "\n",
    "if __name__ == \"__main__\":\n",
    "    inputFilePath = \"txt file path\"   # Replace with the path to your large txt file\n",
    "    outputFolderPath = \"output folder path\"  # Replace with the path to your output folder\n",
    "\n",
    "    splitLargeFile(inputFilePath, outputFolderPath)"
   ]
  }
 ],
 "metadata": {
  "kernelspec": {
   "display_name": "Python 3 (ipykernel)",
   "language": "python",
   "name": "python3"
  },
  "language_info": {
   "codemirror_mode": {
    "name": "ipython",
    "version": 3
   },
   "file_extension": ".py",
   "mimetype": "text/x-python",
   "name": "python",
   "nbconvert_exporter": "python",
   "pygments_lexer": "ipython3",
   "version": "3.10.11"
  }
 },
 "nbformat": 4,
 "nbformat_minor": 5
}
